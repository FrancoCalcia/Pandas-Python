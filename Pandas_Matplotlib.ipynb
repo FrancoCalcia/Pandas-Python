{
  "nbformat": 4,
  "nbformat_minor": 0,
  "metadata": {
    "colab": {
      "provenance": [],
      "collapsed_sections": [
        "opqFC1Q-lwzQ",
        "wRZ8Zf4xDJpi",
        "s4PxdrcREfGq",
        "3N457G1yacj5",
        "MYSBg9I3f5t_"
      ],
      "include_colab_link": true
    },
    "kernelspec": {
      "name": "python3",
      "display_name": "Python 3"
    },
    "language_info": {
      "name": "python"
    }
  },
  "cells": [
    {
      "cell_type": "markdown",
      "metadata": {
        "id": "view-in-github",
        "colab_type": "text"
      },
      "source": [
        "<a href=\"https://colab.research.google.com/github/FrancoCalcia/Pandas-Python/blob/main/Pandas_Matplotlib.ipynb\" target=\"_parent\"><img src=\"https://colab.research.google.com/assets/colab-badge.svg\" alt=\"Open In Colab\"/></a>"
      ]
    },
    {
      "cell_type": "markdown",
      "source": [
        "# Análisis de Datos con Pandas y gráfica con Matplotlib"
      ],
      "metadata": {
        "id": "tKek-ciDIknB"
      }
    },
    {
      "cell_type": "markdown",
      "source": [
        "# Carga de datos"
      ],
      "metadata": {
        "id": "opqFC1Q-lwzQ"
      }
    },
    {
      "cell_type": "code",
      "source": [
        "#Bajamos el .csv desde Drive\n",
        "!pip install gdown\n",
        "!gdown \"1J-oBZ31iJL7UkmKVbevZJo-CO35nKoXt\" --output \"ServicioMeteorologico.csv\""
      ],
      "metadata": {
        "id": "IAjZbPRr1PKx"
      },
      "execution_count": null,
      "outputs": []
    },
    {
      "cell_type": "code",
      "source": [
        "import pandas as pd\n",
        "import matplotlib.pyplot as plt\n",
        "\n",
        "data = pd.read_csv(\"ServicioMeteorologico.csv\", encoding='unicode_escape', na_values = 'S/D')"
      ],
      "metadata": {
        "id": "tzvkgonrEtFe"
      },
      "execution_count": null,
      "outputs": []
    },
    {
      "cell_type": "markdown",
      "source": [
        "# Limpieza de datos\n"
      ],
      "metadata": {
        "id": "wRZ8Zf4xDJpi"
      }
    },
    {
      "cell_type": "code",
      "source": [
        "#Actualizamos la columna 'Estacin' por 'Estación'.\n",
        "data.rename(columns={'Estacin':'Estación'}, inplace=True)\n",
        "\n",
        "#Limpiamos los valores con caracteres no legibles\n",
        "data[\"Valor Medio de\"] = data[\"Valor Medio de\"].str.replace(\"\",\"á\")\n",
        "data[\"Valor Medio de\"] = data[\"Valor Medio de\"].str.replace(\"\",\"í\")\n",
        "data[\"Valor Medio de\"] = data[\"Valor Medio de\"].str.replace(\"\",\"ó\")\n",
        "data[\"Estación\"] = data[\"Estación\"].str.replace(\"Ã\",\"O\")"
      ],
      "metadata": {
        "id": "di1KrSdg9t6m"
      },
      "execution_count": null,
      "outputs": []
    },
    {
      "cell_type": "code",
      "source": [
        "# Convertir todas las columnas de meses a numérico, para mejorar su posterior analisis.\n",
        "meses = ['Ene', 'Feb', 'Mar', 'Abr', 'May', 'Jun', 'Jul', 'Ago', 'Sep', 'Oct', 'Nov', 'Dic']\n",
        "\n",
        "for mes in meses:\n",
        "    data[mes] = pd.to_numeric(data[mes], errors='coerce')"
      ],
      "metadata": {
        "id": "PzuZUYz_EniX"
      },
      "execution_count": null,
      "outputs": []
    },
    {
      "cell_type": "code",
      "source": [
        "#Sirve para mostrar las primeras 25 estaciones\n",
        "data.head(25)"
      ],
      "metadata": {
        "id": "uKCCOjjznPya"
      },
      "execution_count": null,
      "outputs": []
    },
    {
      "cell_type": "markdown",
      "source": [
        "# Análisis descriptivo"
      ],
      "metadata": {
        "id": "s4PxdrcREfGq"
      }
    },
    {
      "cell_type": "code",
      "source": [
        "#Tomamos como variable relevante la temperatura promedio y calculamos las estadísticas resumen\n",
        "t=data[data['Valor Medio de'] == \"Temperatura (grados C)\"]\n",
        "t.describe()"
      ],
      "metadata": {
        "id": "YBYGHdTwm9Nm"
      },
      "execution_count": null,
      "outputs": []
    },
    {
      "cell_type": "markdown",
      "source": [
        "\n",
        "\n",
        "---\n",
        "\n"
      ],
      "metadata": {
        "id": "6uJFOWOv31aa"
      }
    },
    {
      "cell_type": "code",
      "source": [
        "#Tomamos como variable relevante la humedad relativa y calculamos las estadísticas resumen\n",
        "h=data[data['Valor Medio de'] == \"Humedad relativa (%)\"]\n",
        "h.describe()"
      ],
      "metadata": {
        "id": "eFobtEslnfMl"
      },
      "execution_count": null,
      "outputs": []
    },
    {
      "cell_type": "markdown",
      "source": [
        "\n",
        "\n",
        "---\n",
        "\n"
      ],
      "metadata": {
        "id": "p9I7-Twi33ot"
      }
    },
    {
      "cell_type": "markdown",
      "source": [
        "En el siguiente gráfico se muestran la agrupación de estaciones que superan una temperatura máxima a 25°C y además las que superan una humedad relativa a 65%."
      ],
      "metadata": {
        "id": "d2kdVxwLWC5n"
      }
    },
    {
      "cell_type": "code",
      "source": [
        "# Filtrar estaciones con temperatura máxima > 25°C y humedad relativa > 65%\n",
        "m = data[((data['Valor Medio de'] == 'Temperatura máxima (grados C)') & (data['Ene'] > 25)) |\n",
        "         ((data['Valor Medio de'] == 'Humedad relativa (%)') & (data['Ene'] > 65))]\n",
        "\n",
        "# Crear un boxplot para la columna 'Ene' de las estaciones filtradas\n",
        "boxplot = m.boxplot(column='Ene',by='Valor Medio de',figsize=(10, 6))\n",
        "\n",
        "plt.title('Datos para Enero')\n",
        "plt.xlabel('Mes de Enero')\n",
        "plt.ylabel('Valores de variables')\n",
        "plt.show()"
      ],
      "metadata": {
        "id": "rZEeQtBfTDsh"
      },
      "execution_count": null,
      "outputs": []
    },
    {
      "cell_type": "markdown",
      "source": [
        "\n",
        "\n",
        "---\n",
        "\n"
      ],
      "metadata": {
        "id": "81gYWolR37Ud"
      }
    },
    {
      "cell_type": "markdown",
      "source": [
        "En el siguiente gráfico se muestra la variación de temperatura promedio de todos los meses, utilizando boxplot."
      ],
      "metadata": {
        "id": "bZr_uQA1u5-I"
      }
    },
    {
      "cell_type": "code",
      "source": [
        "meses = ['Ene', 'Feb', 'Mar', 'Abr', 'May', 'Jun', 'Jul', 'Ago', 'Sep', 'Oct', 'Nov', 'Dic']\n",
        "\n",
        "# Filtrar por \"Valor Medio de\" y asegurarse de que los valores no sean nulos en al menos un mes\n",
        "data_filtrado = data[(data['Valor Medio de'] == \"Temperatura (grados C)\") &\n",
        "                     data[meses].notnull().any(axis=1)]\n",
        "\n",
        "# Crear un boxplot con todas las columnas de meses\n",
        "plt.boxplot([data_filtrado[mes] for mes in meses])\n",
        "\n",
        "# Personalizar el boxplot\n",
        "plt.xlabel('Meses')\n",
        "plt.ylabel('Temperatura (Grados C)')\n",
        "plt.title('Variacion de temperatura promedio')\n",
        "\n",
        "# Agregar etiquetas para cada caja\n",
        "plt.xticks(range(1, len(meses) + 1), meses)\n",
        "\n",
        "# Mostrar el boxplot\n",
        "plt.show()"
      ],
      "metadata": {
        "id": "zWiy2k4SpNyD"
      },
      "execution_count": null,
      "outputs": []
    },
    {
      "cell_type": "markdown",
      "source": [
        "\n",
        "\n",
        "---\n",
        "\n"
      ],
      "metadata": {
        "id": "EXGy4HBG39qW"
      }
    },
    {
      "cell_type": "markdown",
      "source": [
        "En base a este analisis podemos decir que la temperatura promedio mínima se registró en el mes de Julio. Por ende ahora queremos mostrar el Top 10 de temperaturas mínimas de Julio.\n",
        "Lo mismo vamos a realizar para las temperaturas máximas registradas en el mes de Enero.\n",
        "\n",
        "Se puede observar que existen valores atípicos."
      ],
      "metadata": {
        "id": "DKL2urEJusZX"
      }
    },
    {
      "cell_type": "code",
      "source": [
        "# Filtrar por \"Valor Medio de\" y asegurarse de que los valores no sean nulos en julio\n",
        "data_filtrado = data[(data['Valor Medio de'] == \"Temperatura mínima (grados C)\") & data['Jul'].notnull()]\n",
        "\n",
        "# Calcular la temperatura mínima de julio para cada estación\n",
        "temperaturas_minimas_por_estacion = data_filtrado.groupby('Estación')['Jul'].min()\n",
        "\n",
        "# Ordenar las temperaturas mínimas de manera ascendente y seleccionar el top 10\n",
        "top_10_temperaturas_bajas = temperaturas_minimas_por_estacion.sort_values(ascending=True).head(10)\n",
        "\n",
        "# Graficar el top 10 de temperaturas más bajas\n",
        "top_10_temperaturas_bajas.plot(kind='bar', figsize=(10, 6), color='skyblue')\n",
        "\n",
        "# Personalizar el gráfico\n",
        "plt.xlabel('Estación')\n",
        "plt.ylabel('Temperatura Mínima (°C)')\n",
        "plt.title('Top 10 de Temperaturas Más Bajas en Julio por Estación')\n",
        "\n",
        "# Mostrar el gráfico\n",
        "plt.show()"
      ],
      "metadata": {
        "id": "ZvOZnHFJrWpe"
      },
      "execution_count": null,
      "outputs": []
    },
    {
      "cell_type": "markdown",
      "source": [
        "\n",
        "\n",
        "---\n",
        "\n"
      ],
      "metadata": {
        "id": "LIfsLEQ34A4P"
      }
    },
    {
      "cell_type": "code",
      "source": [
        "# Filtrar por \"Valor Medio de\" y asegurarse de que los valores no sean nulos en Enero\n",
        "data_filtrado = data[(data['Valor Medio de'] == \"Temperatura máxima (grados C)\") & data[\"Ene\"].notnull()]\n",
        "\n",
        "# Calcular la temperatura maxima de Enero para cada estación\n",
        "temperaturas_maximas_por_estacion = data_filtrado.groupby('Estación')[\"Ene\"].max()\n",
        "\n",
        "# Ordenar las temperaturas maximas de manera descendente y seleccionar el top 10\n",
        "top_10_temperaturas_altas = temperaturas_maximas_por_estacion.sort_values(ascending=False).head(10)\n",
        "\n",
        "# Graficar el top 10 de temperaturas más altas\n",
        "top_10_temperaturas_altas.plot(kind='bar', figsize=(10, 6), color='skyblue')\n",
        "\n",
        "# Personalizar el gráfico\n",
        "plt.xlabel('Estación')\n",
        "plt.ylabel('Temperatura Máxima (°C)')\n",
        "plt.title('Top 10 de Temperaturas Más Altas en Enero por Estación')\n",
        "\n",
        "# Mostrar el gráfico\n",
        "plt.show()"
      ],
      "metadata": {
        "id": "B-VVlX12r15y"
      },
      "execution_count": null,
      "outputs": []
    },
    {
      "cell_type": "markdown",
      "source": [
        "\n",
        "\n",
        "---\n",
        "\n"
      ],
      "metadata": {
        "id": "z56_6RLq4Diw"
      }
    },
    {
      "cell_type": "markdown",
      "source": [
        "En el siguiente gráfico se muestra el top 10 de estaciones con mayores vientos por mes."
      ],
      "metadata": {
        "id": "U0l0Gs4dMQMz"
      }
    },
    {
      "cell_type": "code",
      "source": [
        "meses = ['Ene', 'Feb', 'Mar', 'Abr', 'May', 'Jun', 'Jul', 'Ago', 'Sep', 'Oct', 'Nov', 'Dic']\n",
        "\n",
        "# Filtrar por \"Valor Medio de\" y asegurarse de que los valores no sean nulos en al menos un mes\n",
        "data_filtrado = data[(data['Valor Medio de'] == \"Velocidad del Viento (km/h)\") &\n",
        "                     data[meses].notnull().any(axis=1)]\n",
        "\n",
        "# Calcular los vientos máximos por estación\n",
        "vientos_max_por_estacion = data_filtrado.groupby('Estación')[meses].max()\n",
        "\n",
        "# Obtener el top 10 de estaciones con los mayores vientos para cualquier mes\n",
        "top_10_vientos_max = vientos_max_por_estacion.max(axis=1).nlargest(10)\n",
        "\n",
        "# Filtrar solo las estaciones del top 10\n",
        "top_10_vientos_data = vientos_max_por_estacion.loc[top_10_vientos_max.index]\n",
        "\n",
        "# Crear un gráfico de barras para mostrar el top 10 de estaciones con los mayores vientos\n",
        "top_10_vientos_data.transpose().plot(kind='bar', figsize=(12, 6), colormap='viridis', width=0.8)\n",
        "\n",
        "# Personalizar el gráfico\n",
        "plt.xlabel('Estaciones')\n",
        "plt.ylabel('Viento Máximo (Km/h)')\n",
        "plt.title('Top 10 de Estaciones con los Mayores Vientos por Mes')\n",
        "\n",
        "# Mostrar el gráfico\n",
        "plt.show()"
      ],
      "metadata": {
        "id": "9epI8mXfxxm7"
      },
      "execution_count": null,
      "outputs": []
    },
    {
      "cell_type": "markdown",
      "source": [
        "\n",
        "\n",
        "---\n",
        "\n"
      ],
      "metadata": {
        "id": "2JUaVkwJ4ODf"
      }
    },
    {
      "cell_type": "markdown",
      "source": [
        "# Análisis temporal"
      ],
      "metadata": {
        "id": "3N457G1yacj5"
      }
    },
    {
      "cell_type": "markdown",
      "source": [
        "En el siguiente gráfico se muestra la variación de temperaturas (máxima, promedio y mínima) de todos los meses, utilizando gráfico de líneas"
      ],
      "metadata": {
        "id": "gxp_YD2sMnvw"
      }
    },
    {
      "cell_type": "code",
      "source": [
        "meses = ['Ene', 'Feb', 'Mar', 'Abr', 'May', 'Jun', 'Jul', 'Ago', 'Sep', 'Oct', 'Nov', 'Dic']\n",
        "\n",
        "# Filtrar por \"Valor Medio de\" y asegurarse de que los valores no sean nulos en al menos un mes\n",
        "data_filtrado = data[(data['Valor Medio de'] == \"Temperatura máxima (grados C)\") |\n",
        "                     (data['Valor Medio de'] == \"Temperatura (grados C)\") |\n",
        "                     (data['Valor Medio de'] == \"Temperatura mínima (grados C)\") &\n",
        "                     data[meses].notnull().any(axis=1)]\n",
        "\n",
        "# Crear un gráfico de líneas con todas las columnas de meses para temperatura máxima\n",
        "data_filtrado[data_filtrado['Valor Medio de'] == 'Temperatura máxima (grados C)'][meses].mean().plot(\n",
        "    marker='o', linestyle='-', color='#FF55BA', label='Temperatura Máxima', figsize=(15, 6))\n",
        "\n",
        "# Crear un gráfico de líneas con todas las columnas de meses para temperatura promedio\n",
        "data_filtrado[data_filtrado['Valor Medio de'] == 'Temperatura (grados C)'][meses].mean().plot(\n",
        "    marker='o', linestyle='-', color='#55FFED', label='Temperatura Promedio')\n",
        "\n",
        "# Crear un gráfico de líneas con todas las columnas de meses para temperatura mínima\n",
        "data_filtrado[data_filtrado['Valor Medio de'] == 'Temperatura mínima (grados C)'][meses].mean().plot(\n",
        "    marker='o', linestyle='-', color='#55FF76', label='Temperatura Mínima')\n",
        "\n",
        "# Personalizar el gráfico de líneas\n",
        "plt.xlabel('Meses')\n",
        "plt.ylabel('Temperatura (Grados C)')\n",
        "plt.title('Variación de Temperaturas')\n",
        "plt.legend()\n",
        "\n",
        "# Mostrar el gráfico\n",
        "plt.show()"
      ],
      "metadata": {
        "id": "FwmB6G7hc0kr"
      },
      "execution_count": null,
      "outputs": []
    },
    {
      "cell_type": "markdown",
      "source": [
        "\n",
        "\n",
        "---\n",
        "\n"
      ],
      "metadata": {
        "id": "fMgB2Qlp4QtD"
      }
    },
    {
      "cell_type": "markdown",
      "source": [
        "# Preguntas de investigación"
      ],
      "metadata": {
        "id": "MYSBg9I3f5t_"
      }
    },
    {
      "cell_type": "markdown",
      "source": [
        "* ¿Cuál fue la estación con menor frecuencia de días con precipitación superior a 0.1mm?"
      ],
      "metadata": {
        "id": "0ekth6Kjf-K3"
      }
    },
    {
      "cell_type": "code",
      "source": [
        "p=data[data['Valor Medio de'] == \"Frecuencia de días con Precipitación superior a 0.1 mm\"]\n",
        "print(f\"\"\"La estación con menor frecuencia de días con precipitación superior a 0.1mm es {p.min()[\"Estación\"]},\n",
        "a continuación se muestran sus datos:\n",
        "\n",
        "{(p.min())}\"\"\")"
      ],
      "metadata": {
        "id": "mDO19DX6fSmw"
      },
      "execution_count": null,
      "outputs": []
    },
    {
      "cell_type": "markdown",
      "source": [
        "\n",
        "\n",
        "\n",
        "---\n",
        "\n"
      ],
      "metadata": {
        "id": "CdPD4ENL3gC4"
      }
    },
    {
      "cell_type": "markdown",
      "source": [
        "* ¿Cuál fue el mes con mayor Nubosidad total (octavos)?"
      ],
      "metadata": {
        "id": "_tXUe1lNgJ1h"
      }
    },
    {
      "cell_type": "code",
      "source": [
        "n = data[data['Valor Medio de'] == \"Nubosidad total (octavos)\"]\n",
        "promedios_por_mes = n.mean(numeric_only=True)\n",
        "mes_con_mayor_promedio = promedios_por_mes.idxmax()\n",
        "max_promedio = promedios_por_mes.max()\n",
        "\n",
        "print(promedios_por_mes)\n",
        "\n",
        "print(f\"\"\"\n",
        "El mes con el mayor promedio de nubosidad total es {mes_con_mayor_promedio}, con un promedio de {max_promedio:.2f} (octavos)\"\"\")"
      ],
      "metadata": {
        "id": "1xYenDR_gSto"
      },
      "execution_count": null,
      "outputs": []
    },
    {
      "cell_type": "markdown",
      "source": [
        "\n",
        "\n",
        "---\n",
        "\n"
      ],
      "metadata": {
        "id": "tHXEg-b73lqC"
      }
    },
    {
      "cell_type": "markdown",
      "source": [
        "* ¿Cuál fue el mes con menor velocidad del viento (km/h)?"
      ],
      "metadata": {
        "id": "_uFBMzMokLIb"
      }
    },
    {
      "cell_type": "code",
      "source": [
        "v = data[data['Valor Medio de'] == \"Velocidad del Viento (km/h)\"]\n",
        "promedios_por_mes = v.mean(numeric_only=True)\n",
        "mes_con_menor_promedio = promedios_por_mes.idxmin()\n",
        "menor_promedio = promedios_por_mes.min()\n",
        "\n",
        "print(promedios_por_mes)\n",
        "print(f\"\"\"\n",
        "El mes con el menor promedio de velocidad del viento es {mes_con_menor_promedio}, con un promedio de {menor_promedio:.2f} (Km/h)\"\"\")\n"
      ],
      "metadata": {
        "id": "91KY86GakKsU"
      },
      "execution_count": null,
      "outputs": []
    },
    {
      "cell_type": "markdown",
      "source": [
        "\n",
        "\n",
        "---\n",
        "\n"
      ],
      "metadata": {
        "id": "YtI4qNgC3nF8"
      }
    }
  ]
}