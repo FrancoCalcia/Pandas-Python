{
  "nbformat": 4,
  "nbformat_minor": 0,
  "metadata": {
    "colab": {
      "provenance": [],
      "collapsed_sections": [
        "opqFC1Q-lwzQ",
        "wRZ8Zf4xDJpi",
        "s4PxdrcREfGq",
        "3N457G1yacj5",
        "MYSBg9I3f5t_"
      ],
      "include_colab_link": true
    },
    "kernelspec": {
      "name": "python3",
      "display_name": "Python 3"
    },
    "language_info": {
      "name": "python"
    }
  },
  "cells": [
    {
      "cell_type": "markdown",
      "metadata": {
        "id": "view-in-github",
        "colab_type": "text"
      },
      "source": [
        "<a href=\"https://colab.research.google.com/github/FrancoCalcia/Pandas-Python/blob/main/Pandas_Matplotlib.ipynb\" target=\"_parent\"><img src=\"https://colab.research.google.com/assets/colab-badge.svg\" alt=\"Open In Colab\"/></a>"
      ]
    },
    {
      "cell_type": "markdown",
      "source": [
        "# Análisis de Datos con Pandas y gráfica con Matplotlib"
      ],
      "metadata": {
        "id": "tKek-ciDIknB"
      }
    },
    {
      "cell_type": "markdown",
      "source": [
        "# Carga de datos"
      ],
      "metadata": {
        "id": "opqFC1Q-lwzQ"
      }
    },
    {
      "cell_type": "code",
      "source": [
        "#Bajamos el .csv desde Drive\n",
        "!pip install gdown\n",
        "!gdown \"1J-oBZ31iJL7UkmKVbevZJo-CO35nKoXt\" --output \"ServicioMeteorologico.csv\""
      ],
      "metadata": {
        "id": "IAjZbPRr1PKx"
      },
      "execution_count": null,
      "outputs": []
    },
    {
      "cell_type": "code",
      "source": [
        "import pandas as pd\n",
        "import matplotlib.pyplot as plt\n",
        "\n",
        "data = pd.read_csv(\"ServicioMeteorologico.csv\", encoding='unicode_escape', na_values = 'S/D')"
      ],
      "metadata": {
        "id": "tzvkgonrEtFe"
      },
      "execution_count": null,
      "outputs": []
    },
    {
      "cell_type": "markdown",
      "source": [
        "# Limpieza de datos\n"
      ],
      "metadata": {
        "id": "wRZ8Zf4xDJpi"
      }
    },
    {
      "cell_type": "code",
      "source": [
        "#Actualizamos la columna 'Estacin' por 'Estación'.\n",
        "data.rename(columns={'Estacin':'Estación'}, inplace=True)\n",
        "\n",
        "#Limpiamos los valores con caracteres no legibles\n",
        "data[\"Valor Medio de\"] = data[\"Valor Medio de\"].str.replace(\"\",\"á\")\n",
        "data[\"Valor Medio de\"] = data[\"Valor Medio de\"].str.replace(\"\",\"í\")\n",
        "data[\"Valor Medio de\"] = data[\"Valor Medio de\"].str.replace(\"\",\"ó\")\n",
        "data[\"Estación\"] = data[\"Estación\"].str.replace(\"Ã\",\"O\")"
      ],
      "metadata": {
        "id": "di1KrSdg9t6m"
      },
      "execution_count": null,
      "outputs": []
    },
    {
      "cell_type": "code",
      "source": [
        "# Convertir todas las columnas de meses a numérico, para mejorar su posterior analisis.\n",
        "meses = ['Ene', 'Feb', 'Mar', 'Abr', 'May', 'Jun', 'Jul', 'Ago', 'Sep', 'Oct', 'Nov', 'Dic']\n",
        "\n",
        "for mes in meses:\n",
        "    data[mes] = pd.to_numeric(data[mes], errors='coerce')"
      ],
      "metadata": {
        "id": "PzuZUYz_EniX"
      },
      "execution_count": null,
      "outputs": []
    },
    {
      "cell_type": "code",
      "source": [
        "#Sirve para mostrar las primeras 25 estaciones\n",
        "data.head(25)"
      ],
      "metadata": {
        "id": "uKCCOjjznPya",
        "colab": {
          "base_uri": "https://localhost:8080/",
          "height": 1000
        },
        "outputId": "9a1f1efc-e9de-49b9-fd32-f45490656884"
      },
      "execution_count": null,
      "outputs": [
        {
          "output_type": "execute_result",
          "data": {
            "text/plain": [
              "          Estación                                     Valor Medio de    Ene  \\\n",
              "0   LA QUIACA OBS.                             Temperatura (grados C)   12.8   \n",
              "1   LA QUIACA OBS.                      Temperatura máxima (grados C)   20.1   \n",
              "2   LA QUIACA OBS.                      Temperatura mínima (grados C)    7.4   \n",
              "3   LA QUIACA OBS.                               Humedad relativa (%)   65.3   \n",
              "4   LA QUIACA OBS.                        Velocidad del Viento (km/h)    6.9   \n",
              "5   LA QUIACA OBS.                          Nubosidad total (octavos)    5.2   \n",
              "6   LA QUIACA OBS.                                 Precipitación (mm)   97.5   \n",
              "7   LA QUIACA OBS.  Frecuencia de días con Precipitación superior ...   15.9   \n",
              "8    TARTAGAL AERO                             Temperatura (grados C)   25.2   \n",
              "9    TARTAGAL AERO                      Temperatura máxima (grados C)   31.7   \n",
              "10   TARTAGAL AERO                      Temperatura mínima (grados C)   20.6   \n",
              "11   TARTAGAL AERO                               Humedad relativa (%)   78.5   \n",
              "12   TARTAGAL AERO                        Velocidad del Viento (km/h)    6.1   \n",
              "13   TARTAGAL AERO                          Nubosidad total (octavos)    NaN   \n",
              "14   TARTAGAL AERO                                 Precipitación (mm)  200.2   \n",
              "15   TARTAGAL AERO  Frecuencia de días con Precipitación superior ...   11.6   \n",
              "16      JUJUY AERO                             Temperatura (grados C)   23.6   \n",
              "17      JUJUY AERO                      Temperatura máxima (grados C)   30.0   \n",
              "18      JUJUY AERO                      Temperatura mínima (grados C)   18.3   \n",
              "19      JUJUY AERO                               Humedad relativa (%)   74.4   \n",
              "20      JUJUY AERO                        Velocidad del Viento (km/h)    8.2   \n",
              "21      JUJUY AERO                          Nubosidad total (octavos)    5.3   \n",
              "22      JUJUY AERO                                 Precipitación (mm)  153.2   \n",
              "23      JUJUY AERO  Frecuencia de días con Precipitación superior ...   13.4   \n",
              "24      SALTA AERO                             Temperatura (grados C)   21.4   \n",
              "\n",
              "      Feb    Mar   Abr   May   Jun   Jul   Ago   Sep   Oct    Nov    Dic  \n",
              "0    12.5   12.4  10.9   6.9   4.4   4.1   6.7   9.3  11.7   12.8   13.2  \n",
              "1    19.9   19.9  19.7  17.3  15.6  15.4  17.4  19.2  21.1   21.7   21.3  \n",
              "2     7.0    6.3   2.8  -3.0  -6.2  -6.8  -4.2  -1.1   2.8    5.2    6.9  \n",
              "3    64.1   62.4  48.2  34.6  31.1  30.1  31.7  34.4  45.3   52.3   59.2  \n",
              "4     7.1    6.5   6.4   6.0   4.9   6.6   6.6   8.6   8.7    8.8    8.3  \n",
              "5     4.8    4.1   2.7   1.8   1.6   1.4   1.6   2.0   3.0    3.6    4.5  \n",
              "6    68.4   55.9   8.2   1.0   0.5   0.0   1.4   3.5  16.0   27.3   71.9  \n",
              "7    12.2    9.8   2.4   0.3   0.1   0.0   0.4   0.9   3.5    7.4   12.7  \n",
              "8    24.4    NaN  20.2  17.2  14.9  14.6  17.4  20.2  23.9   24.6   25.3  \n",
              "9    30.7   29.1  25.5  22.7  21.0  22.1  25.5  28.2  31.4   31.7   32.0  \n",
              "10   20.0   19.6  17.0  13.2  10.7   9.1  10.6  13.2  17.5   18.8   20.3  \n",
              "11    NaN    NaN  85.0  83.5  80.8  71.9  62.0  55.1  60.1   67.1   74.4  \n",
              "12    5.9    5.2   4.7   4.6   4.6   5.6   6.7   7.3   8.1    8.6    7.1  \n",
              "13    NaN    NaN   NaN   NaN   NaN   NaN   NaN   NaN   NaN    NaN    NaN  \n",
              "14  182.8  187.7  65.3  22.0   6.7   3.6   5.1  15.1  45.0  110.0  176.4  \n",
              "15   11.1   11.7  10.5   5.9   3.6   2.2   1.7   2.4   5.1    9.0   11.4  \n",
              "16   22.5   21.4  18.3  14.8  12.2  11.9  15.0  17.8  21.7   23.0   23.8  \n",
              "17   28.8   27.2  24.0  21.3  19.7  20.3  23.3  25.7  29.0   29.9   30.5  \n",
              "18   17.5   17.1  14.0  10.0   6.8   5.8   8.2  10.6  14.8   16.7   18.0  \n",
              "19   77.7   82.0  82.4  79.7  76.7  68.0  58.7  52.3  56.0   62.0   68.8  \n",
              "20    8.3    7.3   7.1   7.4   7.3   9.2  10.3  11.0  10.7   10.2    8.9  \n",
              "21    5.2    5.4   5.3   4.7   4.1   3.2   3.1   3.4   4.1    4.5    5.0  \n",
              "22  152.9  138.9  49.4  11.6   2.8   3.4   3.1   5.4  28.1   61.1  130.4  \n",
              "23   12.5   14.1   8.7   3.9   2.0   2.3   1.6   1.9   4.8    7.8   11.6  \n",
              "24   20.3   19.5  16.6  13.1  10.6  10.1  12.7  15.1  19.1   20.5   21.5  "
            ],
            "text/html": [
              "\n",
              "  <div id=\"df-588ffcde-053d-4b5d-ac72-1b2ed8710fd9\" class=\"colab-df-container\">\n",
              "    <div>\n",
              "<style scoped>\n",
              "    .dataframe tbody tr th:only-of-type {\n",
              "        vertical-align: middle;\n",
              "    }\n",
              "\n",
              "    .dataframe tbody tr th {\n",
              "        vertical-align: top;\n",
              "    }\n",
              "\n",
              "    .dataframe thead th {\n",
              "        text-align: right;\n",
              "    }\n",
              "</style>\n",
              "<table border=\"1\" class=\"dataframe\">\n",
              "  <thead>\n",
              "    <tr style=\"text-align: right;\">\n",
              "      <th></th>\n",
              "      <th>Estación</th>\n",
              "      <th>Valor Medio de</th>\n",
              "      <th>Ene</th>\n",
              "      <th>Feb</th>\n",
              "      <th>Mar</th>\n",
              "      <th>Abr</th>\n",
              "      <th>May</th>\n",
              "      <th>Jun</th>\n",
              "      <th>Jul</th>\n",
              "      <th>Ago</th>\n",
              "      <th>Sep</th>\n",
              "      <th>Oct</th>\n",
              "      <th>Nov</th>\n",
              "      <th>Dic</th>\n",
              "    </tr>\n",
              "  </thead>\n",
              "  <tbody>\n",
              "    <tr>\n",
              "      <th>0</th>\n",
              "      <td>LA QUIACA OBS.</td>\n",
              "      <td>Temperatura (grados C)</td>\n",
              "      <td>12.8</td>\n",
              "      <td>12.5</td>\n",
              "      <td>12.4</td>\n",
              "      <td>10.9</td>\n",
              "      <td>6.9</td>\n",
              "      <td>4.4</td>\n",
              "      <td>4.1</td>\n",
              "      <td>6.7</td>\n",
              "      <td>9.3</td>\n",
              "      <td>11.7</td>\n",
              "      <td>12.8</td>\n",
              "      <td>13.2</td>\n",
              "    </tr>\n",
              "    <tr>\n",
              "      <th>1</th>\n",
              "      <td>LA QUIACA OBS.</td>\n",
              "      <td>Temperatura máxima (grados C)</td>\n",
              "      <td>20.1</td>\n",
              "      <td>19.9</td>\n",
              "      <td>19.9</td>\n",
              "      <td>19.7</td>\n",
              "      <td>17.3</td>\n",
              "      <td>15.6</td>\n",
              "      <td>15.4</td>\n",
              "      <td>17.4</td>\n",
              "      <td>19.2</td>\n",
              "      <td>21.1</td>\n",
              "      <td>21.7</td>\n",
              "      <td>21.3</td>\n",
              "    </tr>\n",
              "    <tr>\n",
              "      <th>2</th>\n",
              "      <td>LA QUIACA OBS.</td>\n",
              "      <td>Temperatura mínima (grados C)</td>\n",
              "      <td>7.4</td>\n",
              "      <td>7.0</td>\n",
              "      <td>6.3</td>\n",
              "      <td>2.8</td>\n",
              "      <td>-3.0</td>\n",
              "      <td>-6.2</td>\n",
              "      <td>-6.8</td>\n",
              "      <td>-4.2</td>\n",
              "      <td>-1.1</td>\n",
              "      <td>2.8</td>\n",
              "      <td>5.2</td>\n",
              "      <td>6.9</td>\n",
              "    </tr>\n",
              "    <tr>\n",
              "      <th>3</th>\n",
              "      <td>LA QUIACA OBS.</td>\n",
              "      <td>Humedad relativa (%)</td>\n",
              "      <td>65.3</td>\n",
              "      <td>64.1</td>\n",
              "      <td>62.4</td>\n",
              "      <td>48.2</td>\n",
              "      <td>34.6</td>\n",
              "      <td>31.1</td>\n",
              "      <td>30.1</td>\n",
              "      <td>31.7</td>\n",
              "      <td>34.4</td>\n",
              "      <td>45.3</td>\n",
              "      <td>52.3</td>\n",
              "      <td>59.2</td>\n",
              "    </tr>\n",
              "    <tr>\n",
              "      <th>4</th>\n",
              "      <td>LA QUIACA OBS.</td>\n",
              "      <td>Velocidad del Viento (km/h)</td>\n",
              "      <td>6.9</td>\n",
              "      <td>7.1</td>\n",
              "      <td>6.5</td>\n",
              "      <td>6.4</td>\n",
              "      <td>6.0</td>\n",
              "      <td>4.9</td>\n",
              "      <td>6.6</td>\n",
              "      <td>6.6</td>\n",
              "      <td>8.6</td>\n",
              "      <td>8.7</td>\n",
              "      <td>8.8</td>\n",
              "      <td>8.3</td>\n",
              "    </tr>\n",
              "    <tr>\n",
              "      <th>5</th>\n",
              "      <td>LA QUIACA OBS.</td>\n",
              "      <td>Nubosidad total (octavos)</td>\n",
              "      <td>5.2</td>\n",
              "      <td>4.8</td>\n",
              "      <td>4.1</td>\n",
              "      <td>2.7</td>\n",
              "      <td>1.8</td>\n",
              "      <td>1.6</td>\n",
              "      <td>1.4</td>\n",
              "      <td>1.6</td>\n",
              "      <td>2.0</td>\n",
              "      <td>3.0</td>\n",
              "      <td>3.6</td>\n",
              "      <td>4.5</td>\n",
              "    </tr>\n",
              "    <tr>\n",
              "      <th>6</th>\n",
              "      <td>LA QUIACA OBS.</td>\n",
              "      <td>Precipitación (mm)</td>\n",
              "      <td>97.5</td>\n",
              "      <td>68.4</td>\n",
              "      <td>55.9</td>\n",
              "      <td>8.2</td>\n",
              "      <td>1.0</td>\n",
              "      <td>0.5</td>\n",
              "      <td>0.0</td>\n",
              "      <td>1.4</td>\n",
              "      <td>3.5</td>\n",
              "      <td>16.0</td>\n",
              "      <td>27.3</td>\n",
              "      <td>71.9</td>\n",
              "    </tr>\n",
              "    <tr>\n",
              "      <th>7</th>\n",
              "      <td>LA QUIACA OBS.</td>\n",
              "      <td>Frecuencia de días con Precipitación superior ...</td>\n",
              "      <td>15.9</td>\n",
              "      <td>12.2</td>\n",
              "      <td>9.8</td>\n",
              "      <td>2.4</td>\n",
              "      <td>0.3</td>\n",
              "      <td>0.1</td>\n",
              "      <td>0.0</td>\n",
              "      <td>0.4</td>\n",
              "      <td>0.9</td>\n",
              "      <td>3.5</td>\n",
              "      <td>7.4</td>\n",
              "      <td>12.7</td>\n",
              "    </tr>\n",
              "    <tr>\n",
              "      <th>8</th>\n",
              "      <td>TARTAGAL AERO</td>\n",
              "      <td>Temperatura (grados C)</td>\n",
              "      <td>25.2</td>\n",
              "      <td>24.4</td>\n",
              "      <td>NaN</td>\n",
              "      <td>20.2</td>\n",
              "      <td>17.2</td>\n",
              "      <td>14.9</td>\n",
              "      <td>14.6</td>\n",
              "      <td>17.4</td>\n",
              "      <td>20.2</td>\n",
              "      <td>23.9</td>\n",
              "      <td>24.6</td>\n",
              "      <td>25.3</td>\n",
              "    </tr>\n",
              "    <tr>\n",
              "      <th>9</th>\n",
              "      <td>TARTAGAL AERO</td>\n",
              "      <td>Temperatura máxima (grados C)</td>\n",
              "      <td>31.7</td>\n",
              "      <td>30.7</td>\n",
              "      <td>29.1</td>\n",
              "      <td>25.5</td>\n",
              "      <td>22.7</td>\n",
              "      <td>21.0</td>\n",
              "      <td>22.1</td>\n",
              "      <td>25.5</td>\n",
              "      <td>28.2</td>\n",
              "      <td>31.4</td>\n",
              "      <td>31.7</td>\n",
              "      <td>32.0</td>\n",
              "    </tr>\n",
              "    <tr>\n",
              "      <th>10</th>\n",
              "      <td>TARTAGAL AERO</td>\n",
              "      <td>Temperatura mínima (grados C)</td>\n",
              "      <td>20.6</td>\n",
              "      <td>20.0</td>\n",
              "      <td>19.6</td>\n",
              "      <td>17.0</td>\n",
              "      <td>13.2</td>\n",
              "      <td>10.7</td>\n",
              "      <td>9.1</td>\n",
              "      <td>10.6</td>\n",
              "      <td>13.2</td>\n",
              "      <td>17.5</td>\n",
              "      <td>18.8</td>\n",
              "      <td>20.3</td>\n",
              "    </tr>\n",
              "    <tr>\n",
              "      <th>11</th>\n",
              "      <td>TARTAGAL AERO</td>\n",
              "      <td>Humedad relativa (%)</td>\n",
              "      <td>78.5</td>\n",
              "      <td>NaN</td>\n",
              "      <td>NaN</td>\n",
              "      <td>85.0</td>\n",
              "      <td>83.5</td>\n",
              "      <td>80.8</td>\n",
              "      <td>71.9</td>\n",
              "      <td>62.0</td>\n",
              "      <td>55.1</td>\n",
              "      <td>60.1</td>\n",
              "      <td>67.1</td>\n",
              "      <td>74.4</td>\n",
              "    </tr>\n",
              "    <tr>\n",
              "      <th>12</th>\n",
              "      <td>TARTAGAL AERO</td>\n",
              "      <td>Velocidad del Viento (km/h)</td>\n",
              "      <td>6.1</td>\n",
              "      <td>5.9</td>\n",
              "      <td>5.2</td>\n",
              "      <td>4.7</td>\n",
              "      <td>4.6</td>\n",
              "      <td>4.6</td>\n",
              "      <td>5.6</td>\n",
              "      <td>6.7</td>\n",
              "      <td>7.3</td>\n",
              "      <td>8.1</td>\n",
              "      <td>8.6</td>\n",
              "      <td>7.1</td>\n",
              "    </tr>\n",
              "    <tr>\n",
              "      <th>13</th>\n",
              "      <td>TARTAGAL AERO</td>\n",
              "      <td>Nubosidad total (octavos)</td>\n",
              "      <td>NaN</td>\n",
              "      <td>NaN</td>\n",
              "      <td>NaN</td>\n",
              "      <td>NaN</td>\n",
              "      <td>NaN</td>\n",
              "      <td>NaN</td>\n",
              "      <td>NaN</td>\n",
              "      <td>NaN</td>\n",
              "      <td>NaN</td>\n",
              "      <td>NaN</td>\n",
              "      <td>NaN</td>\n",
              "      <td>NaN</td>\n",
              "    </tr>\n",
              "    <tr>\n",
              "      <th>14</th>\n",
              "      <td>TARTAGAL AERO</td>\n",
              "      <td>Precipitación (mm)</td>\n",
              "      <td>200.2</td>\n",
              "      <td>182.8</td>\n",
              "      <td>187.7</td>\n",
              "      <td>65.3</td>\n",
              "      <td>22.0</td>\n",
              "      <td>6.7</td>\n",
              "      <td>3.6</td>\n",
              "      <td>5.1</td>\n",
              "      <td>15.1</td>\n",
              "      <td>45.0</td>\n",
              "      <td>110.0</td>\n",
              "      <td>176.4</td>\n",
              "    </tr>\n",
              "    <tr>\n",
              "      <th>15</th>\n",
              "      <td>TARTAGAL AERO</td>\n",
              "      <td>Frecuencia de días con Precipitación superior ...</td>\n",
              "      <td>11.6</td>\n",
              "      <td>11.1</td>\n",
              "      <td>11.7</td>\n",
              "      <td>10.5</td>\n",
              "      <td>5.9</td>\n",
              "      <td>3.6</td>\n",
              "      <td>2.2</td>\n",
              "      <td>1.7</td>\n",
              "      <td>2.4</td>\n",
              "      <td>5.1</td>\n",
              "      <td>9.0</td>\n",
              "      <td>11.4</td>\n",
              "    </tr>\n",
              "    <tr>\n",
              "      <th>16</th>\n",
              "      <td>JUJUY AERO</td>\n",
              "      <td>Temperatura (grados C)</td>\n",
              "      <td>23.6</td>\n",
              "      <td>22.5</td>\n",
              "      <td>21.4</td>\n",
              "      <td>18.3</td>\n",
              "      <td>14.8</td>\n",
              "      <td>12.2</td>\n",
              "      <td>11.9</td>\n",
              "      <td>15.0</td>\n",
              "      <td>17.8</td>\n",
              "      <td>21.7</td>\n",
              "      <td>23.0</td>\n",
              "      <td>23.8</td>\n",
              "    </tr>\n",
              "    <tr>\n",
              "      <th>17</th>\n",
              "      <td>JUJUY AERO</td>\n",
              "      <td>Temperatura máxima (grados C)</td>\n",
              "      <td>30.0</td>\n",
              "      <td>28.8</td>\n",
              "      <td>27.2</td>\n",
              "      <td>24.0</td>\n",
              "      <td>21.3</td>\n",
              "      <td>19.7</td>\n",
              "      <td>20.3</td>\n",
              "      <td>23.3</td>\n",
              "      <td>25.7</td>\n",
              "      <td>29.0</td>\n",
              "      <td>29.9</td>\n",
              "      <td>30.5</td>\n",
              "    </tr>\n",
              "    <tr>\n",
              "      <th>18</th>\n",
              "      <td>JUJUY AERO</td>\n",
              "      <td>Temperatura mínima (grados C)</td>\n",
              "      <td>18.3</td>\n",
              "      <td>17.5</td>\n",
              "      <td>17.1</td>\n",
              "      <td>14.0</td>\n",
              "      <td>10.0</td>\n",
              "      <td>6.8</td>\n",
              "      <td>5.8</td>\n",
              "      <td>8.2</td>\n",
              "      <td>10.6</td>\n",
              "      <td>14.8</td>\n",
              "      <td>16.7</td>\n",
              "      <td>18.0</td>\n",
              "    </tr>\n",
              "    <tr>\n",
              "      <th>19</th>\n",
              "      <td>JUJUY AERO</td>\n",
              "      <td>Humedad relativa (%)</td>\n",
              "      <td>74.4</td>\n",
              "      <td>77.7</td>\n",
              "      <td>82.0</td>\n",
              "      <td>82.4</td>\n",
              "      <td>79.7</td>\n",
              "      <td>76.7</td>\n",
              "      <td>68.0</td>\n",
              "      <td>58.7</td>\n",
              "      <td>52.3</td>\n",
              "      <td>56.0</td>\n",
              "      <td>62.0</td>\n",
              "      <td>68.8</td>\n",
              "    </tr>\n",
              "    <tr>\n",
              "      <th>20</th>\n",
              "      <td>JUJUY AERO</td>\n",
              "      <td>Velocidad del Viento (km/h)</td>\n",
              "      <td>8.2</td>\n",
              "      <td>8.3</td>\n",
              "      <td>7.3</td>\n",
              "      <td>7.1</td>\n",
              "      <td>7.4</td>\n",
              "      <td>7.3</td>\n",
              "      <td>9.2</td>\n",
              "      <td>10.3</td>\n",
              "      <td>11.0</td>\n",
              "      <td>10.7</td>\n",
              "      <td>10.2</td>\n",
              "      <td>8.9</td>\n",
              "    </tr>\n",
              "    <tr>\n",
              "      <th>21</th>\n",
              "      <td>JUJUY AERO</td>\n",
              "      <td>Nubosidad total (octavos)</td>\n",
              "      <td>5.3</td>\n",
              "      <td>5.2</td>\n",
              "      <td>5.4</td>\n",
              "      <td>5.3</td>\n",
              "      <td>4.7</td>\n",
              "      <td>4.1</td>\n",
              "      <td>3.2</td>\n",
              "      <td>3.1</td>\n",
              "      <td>3.4</td>\n",
              "      <td>4.1</td>\n",
              "      <td>4.5</td>\n",
              "      <td>5.0</td>\n",
              "    </tr>\n",
              "    <tr>\n",
              "      <th>22</th>\n",
              "      <td>JUJUY AERO</td>\n",
              "      <td>Precipitación (mm)</td>\n",
              "      <td>153.2</td>\n",
              "      <td>152.9</td>\n",
              "      <td>138.9</td>\n",
              "      <td>49.4</td>\n",
              "      <td>11.6</td>\n",
              "      <td>2.8</td>\n",
              "      <td>3.4</td>\n",
              "      <td>3.1</td>\n",
              "      <td>5.4</td>\n",
              "      <td>28.1</td>\n",
              "      <td>61.1</td>\n",
              "      <td>130.4</td>\n",
              "    </tr>\n",
              "    <tr>\n",
              "      <th>23</th>\n",
              "      <td>JUJUY AERO</td>\n",
              "      <td>Frecuencia de días con Precipitación superior ...</td>\n",
              "      <td>13.4</td>\n",
              "      <td>12.5</td>\n",
              "      <td>14.1</td>\n",
              "      <td>8.7</td>\n",
              "      <td>3.9</td>\n",
              "      <td>2.0</td>\n",
              "      <td>2.3</td>\n",
              "      <td>1.6</td>\n",
              "      <td>1.9</td>\n",
              "      <td>4.8</td>\n",
              "      <td>7.8</td>\n",
              "      <td>11.6</td>\n",
              "    </tr>\n",
              "    <tr>\n",
              "      <th>24</th>\n",
              "      <td>SALTA AERO</td>\n",
              "      <td>Temperatura (grados C)</td>\n",
              "      <td>21.4</td>\n",
              "      <td>20.3</td>\n",
              "      <td>19.5</td>\n",
              "      <td>16.6</td>\n",
              "      <td>13.1</td>\n",
              "      <td>10.6</td>\n",
              "      <td>10.1</td>\n",
              "      <td>12.7</td>\n",
              "      <td>15.1</td>\n",
              "      <td>19.1</td>\n",
              "      <td>20.5</td>\n",
              "      <td>21.5</td>\n",
              "    </tr>\n",
              "  </tbody>\n",
              "</table>\n",
              "</div>\n",
              "    <div class=\"colab-df-buttons\">\n",
              "\n",
              "  <div class=\"colab-df-container\">\n",
              "    <button class=\"colab-df-convert\" onclick=\"convertToInteractive('df-588ffcde-053d-4b5d-ac72-1b2ed8710fd9')\"\n",
              "            title=\"Convert this dataframe to an interactive table.\"\n",
              "            style=\"display:none;\">\n",
              "\n",
              "  <svg xmlns=\"http://www.w3.org/2000/svg\" height=\"24px\" viewBox=\"0 -960 960 960\">\n",
              "    <path d=\"M120-120v-720h720v720H120Zm60-500h600v-160H180v160Zm220 220h160v-160H400v160Zm0 220h160v-160H400v160ZM180-400h160v-160H180v160Zm440 0h160v-160H620v160ZM180-180h160v-160H180v160Zm440 0h160v-160H620v160Z\"/>\n",
              "  </svg>\n",
              "    </button>\n",
              "\n",
              "  <style>\n",
              "    .colab-df-container {\n",
              "      display:flex;\n",
              "      gap: 12px;\n",
              "    }\n",
              "\n",
              "    .colab-df-convert {\n",
              "      background-color: #E8F0FE;\n",
              "      border: none;\n",
              "      border-radius: 50%;\n",
              "      cursor: pointer;\n",
              "      display: none;\n",
              "      fill: #1967D2;\n",
              "      height: 32px;\n",
              "      padding: 0 0 0 0;\n",
              "      width: 32px;\n",
              "    }\n",
              "\n",
              "    .colab-df-convert:hover {\n",
              "      background-color: #E2EBFA;\n",
              "      box-shadow: 0px 1px 2px rgba(60, 64, 67, 0.3), 0px 1px 3px 1px rgba(60, 64, 67, 0.15);\n",
              "      fill: #174EA6;\n",
              "    }\n",
              "\n",
              "    .colab-df-buttons div {\n",
              "      margin-bottom: 4px;\n",
              "    }\n",
              "\n",
              "    [theme=dark] .colab-df-convert {\n",
              "      background-color: #3B4455;\n",
              "      fill: #D2E3FC;\n",
              "    }\n",
              "\n",
              "    [theme=dark] .colab-df-convert:hover {\n",
              "      background-color: #434B5C;\n",
              "      box-shadow: 0px 1px 3px 1px rgba(0, 0, 0, 0.15);\n",
              "      filter: drop-shadow(0px 1px 2px rgba(0, 0, 0, 0.3));\n",
              "      fill: #FFFFFF;\n",
              "    }\n",
              "  </style>\n",
              "\n",
              "    <script>\n",
              "      const buttonEl =\n",
              "        document.querySelector('#df-588ffcde-053d-4b5d-ac72-1b2ed8710fd9 button.colab-df-convert');\n",
              "      buttonEl.style.display =\n",
              "        google.colab.kernel.accessAllowed ? 'block' : 'none';\n",
              "\n",
              "      async function convertToInteractive(key) {\n",
              "        const element = document.querySelector('#df-588ffcde-053d-4b5d-ac72-1b2ed8710fd9');\n",
              "        const dataTable =\n",
              "          await google.colab.kernel.invokeFunction('convertToInteractive',\n",
              "                                                    [key], {});\n",
              "        if (!dataTable) return;\n",
              "\n",
              "        const docLinkHtml = 'Like what you see? Visit the ' +\n",
              "          '<a target=\"_blank\" href=https://colab.research.google.com/notebooks/data_table.ipynb>data table notebook</a>'\n",
              "          + ' to learn more about interactive tables.';\n",
              "        element.innerHTML = '';\n",
              "        dataTable['output_type'] = 'display_data';\n",
              "        await google.colab.output.renderOutput(dataTable, element);\n",
              "        const docLink = document.createElement('div');\n",
              "        docLink.innerHTML = docLinkHtml;\n",
              "        element.appendChild(docLink);\n",
              "      }\n",
              "    </script>\n",
              "  </div>\n",
              "\n",
              "\n",
              "<div id=\"df-d643a194-104d-4154-aa42-251385f95a65\">\n",
              "  <button class=\"colab-df-quickchart\" onclick=\"quickchart('df-d643a194-104d-4154-aa42-251385f95a65')\"\n",
              "            title=\"Suggest charts\"\n",
              "            style=\"display:none;\">\n",
              "\n",
              "<svg xmlns=\"http://www.w3.org/2000/svg\" height=\"24px\"viewBox=\"0 0 24 24\"\n",
              "     width=\"24px\">\n",
              "    <g>\n",
              "        <path d=\"M19 3H5c-1.1 0-2 .9-2 2v14c0 1.1.9 2 2 2h14c1.1 0 2-.9 2-2V5c0-1.1-.9-2-2-2zM9 17H7v-7h2v7zm4 0h-2V7h2v10zm4 0h-2v-4h2v4z\"/>\n",
              "    </g>\n",
              "</svg>\n",
              "  </button>\n",
              "\n",
              "<style>\n",
              "  .colab-df-quickchart {\n",
              "      --bg-color: #E8F0FE;\n",
              "      --fill-color: #1967D2;\n",
              "      --hover-bg-color: #E2EBFA;\n",
              "      --hover-fill-color: #174EA6;\n",
              "      --disabled-fill-color: #AAA;\n",
              "      --disabled-bg-color: #DDD;\n",
              "  }\n",
              "\n",
              "  [theme=dark] .colab-df-quickchart {\n",
              "      --bg-color: #3B4455;\n",
              "      --fill-color: #D2E3FC;\n",
              "      --hover-bg-color: #434B5C;\n",
              "      --hover-fill-color: #FFFFFF;\n",
              "      --disabled-bg-color: #3B4455;\n",
              "      --disabled-fill-color: #666;\n",
              "  }\n",
              "\n",
              "  .colab-df-quickchart {\n",
              "    background-color: var(--bg-color);\n",
              "    border: none;\n",
              "    border-radius: 50%;\n",
              "    cursor: pointer;\n",
              "    display: none;\n",
              "    fill: var(--fill-color);\n",
              "    height: 32px;\n",
              "    padding: 0;\n",
              "    width: 32px;\n",
              "  }\n",
              "\n",
              "  .colab-df-quickchart:hover {\n",
              "    background-color: var(--hover-bg-color);\n",
              "    box-shadow: 0 1px 2px rgba(60, 64, 67, 0.3), 0 1px 3px 1px rgba(60, 64, 67, 0.15);\n",
              "    fill: var(--button-hover-fill-color);\n",
              "  }\n",
              "\n",
              "  .colab-df-quickchart-complete:disabled,\n",
              "  .colab-df-quickchart-complete:disabled:hover {\n",
              "    background-color: var(--disabled-bg-color);\n",
              "    fill: var(--disabled-fill-color);\n",
              "    box-shadow: none;\n",
              "  }\n",
              "\n",
              "  .colab-df-spinner {\n",
              "    border: 2px solid var(--fill-color);\n",
              "    border-color: transparent;\n",
              "    border-bottom-color: var(--fill-color);\n",
              "    animation:\n",
              "      spin 1s steps(1) infinite;\n",
              "  }\n",
              "\n",
              "  @keyframes spin {\n",
              "    0% {\n",
              "      border-color: transparent;\n",
              "      border-bottom-color: var(--fill-color);\n",
              "      border-left-color: var(--fill-color);\n",
              "    }\n",
              "    20% {\n",
              "      border-color: transparent;\n",
              "      border-left-color: var(--fill-color);\n",
              "      border-top-color: var(--fill-color);\n",
              "    }\n",
              "    30% {\n",
              "      border-color: transparent;\n",
              "      border-left-color: var(--fill-color);\n",
              "      border-top-color: var(--fill-color);\n",
              "      border-right-color: var(--fill-color);\n",
              "    }\n",
              "    40% {\n",
              "      border-color: transparent;\n",
              "      border-right-color: var(--fill-color);\n",
              "      border-top-color: var(--fill-color);\n",
              "    }\n",
              "    60% {\n",
              "      border-color: transparent;\n",
              "      border-right-color: var(--fill-color);\n",
              "    }\n",
              "    80% {\n",
              "      border-color: transparent;\n",
              "      border-right-color: var(--fill-color);\n",
              "      border-bottom-color: var(--fill-color);\n",
              "    }\n",
              "    90% {\n",
              "      border-color: transparent;\n",
              "      border-bottom-color: var(--fill-color);\n",
              "    }\n",
              "  }\n",
              "</style>\n",
              "\n",
              "  <script>\n",
              "    async function quickchart(key) {\n",
              "      const quickchartButtonEl =\n",
              "        document.querySelector('#' + key + ' button');\n",
              "      quickchartButtonEl.disabled = true;  // To prevent multiple clicks.\n",
              "      quickchartButtonEl.classList.add('colab-df-spinner');\n",
              "      try {\n",
              "        const charts = await google.colab.kernel.invokeFunction(\n",
              "            'suggestCharts', [key], {});\n",
              "      } catch (error) {\n",
              "        console.error('Error during call to suggestCharts:', error);\n",
              "      }\n",
              "      quickchartButtonEl.classList.remove('colab-df-spinner');\n",
              "      quickchartButtonEl.classList.add('colab-df-quickchart-complete');\n",
              "    }\n",
              "    (() => {\n",
              "      let quickchartButtonEl =\n",
              "        document.querySelector('#df-d643a194-104d-4154-aa42-251385f95a65 button');\n",
              "      quickchartButtonEl.style.display =\n",
              "        google.colab.kernel.accessAllowed ? 'block' : 'none';\n",
              "    })();\n",
              "  </script>\n",
              "</div>\n",
              "\n",
              "    </div>\n",
              "  </div>\n"
            ]
          },
          "metadata": {},
          "execution_count": 6
        }
      ]
    },
    {
      "cell_type": "markdown",
      "source": [
        "# Análisis descriptivo"
      ],
      "metadata": {
        "id": "s4PxdrcREfGq"
      }
    },
    {
      "cell_type": "code",
      "source": [
        "#Tomamos como variable relevante la temperatura promedio y calculamos las estadísticas resumen\n",
        "t=data[data['Valor Medio de'] == \"Temperatura (grados C)\"]\n",
        "t.describe()"
      ],
      "metadata": {
        "id": "YBYGHdTwm9Nm"
      },
      "execution_count": null,
      "outputs": []
    },
    {
      "cell_type": "markdown",
      "source": [
        "\n",
        "\n",
        "---\n",
        "\n"
      ],
      "metadata": {
        "id": "6uJFOWOv31aa"
      }
    },
    {
      "cell_type": "code",
      "source": [
        "#Tomamos como variable relevante la humedad relativa y calculamos las estadísticas resumen\n",
        "h=data[data['Valor Medio de'] == \"Humedad relativa (%)\"]\n",
        "h.describe()"
      ],
      "metadata": {
        "id": "eFobtEslnfMl"
      },
      "execution_count": null,
      "outputs": []
    },
    {
      "cell_type": "markdown",
      "source": [
        "\n",
        "\n",
        "---\n",
        "\n"
      ],
      "metadata": {
        "id": "p9I7-Twi33ot"
      }
    },
    {
      "cell_type": "markdown",
      "source": [
        "En el siguiente gráfico se muestran la agrupación de estaciones que superan una temperatura máxima a 25°C y además las que superan una humedad relativa a 65%."
      ],
      "metadata": {
        "id": "d2kdVxwLWC5n"
      }
    },
    {
      "cell_type": "code",
      "source": [
        "# Filtrar estaciones con temperatura máxima > 25°C y humedad relativa > 65%\n",
        "m = data[((data['Valor Medio de'] == 'Temperatura máxima (grados C)') & (data['Ene'] > 25)) |\n",
        "         ((data['Valor Medio de'] == 'Humedad relativa (%)') & (data['Ene'] > 65))]\n",
        "\n",
        "# Crear un boxplot para la columna 'Ene' de las estaciones filtradas\n",
        "boxplot = m.boxplot(column='Ene',by='Valor Medio de',figsize=(10, 6))\n",
        "\n",
        "plt.title('Datos para Enero')\n",
        "plt.xlabel('Mes de Enero')\n",
        "plt.ylabel('Valores de variables')\n",
        "plt.show()"
      ],
      "metadata": {
        "id": "rZEeQtBfTDsh"
      },
      "execution_count": null,
      "outputs": []
    },
    {
      "cell_type": "markdown",
      "source": [
        "\n",
        "\n",
        "---\n",
        "\n"
      ],
      "metadata": {
        "id": "81gYWolR37Ud"
      }
    },
    {
      "cell_type": "markdown",
      "source": [
        "En el siguiente gráfico se muestra la variación de temperatura promedio de todos los meses, utilizando boxplot."
      ],
      "metadata": {
        "id": "bZr_uQA1u5-I"
      }
    },
    {
      "cell_type": "code",
      "source": [
        "meses = ['Ene', 'Feb', 'Mar', 'Abr', 'May', 'Jun', 'Jul', 'Ago', 'Sep', 'Oct', 'Nov', 'Dic']\n",
        "\n",
        "# Filtrar por \"Valor Medio de\" y asegurarse de que los valores no sean nulos en al menos un mes\n",
        "data_filtrado = data[(data['Valor Medio de'] == \"Temperatura (grados C)\") &\n",
        "                     data[meses].notnull().any(axis=1)]\n",
        "\n",
        "# Crear un boxplot con todas las columnas de meses\n",
        "plt.boxplot([data_filtrado[mes] for mes in meses])\n",
        "\n",
        "# Personalizar el boxplot\n",
        "plt.xlabel('Meses')\n",
        "plt.ylabel('Temperatura (Grados C)')\n",
        "plt.title('Variacion de temperatura promedio')\n",
        "\n",
        "# Agregar etiquetas para cada caja\n",
        "plt.xticks(range(1, len(meses) + 1), meses)\n",
        "\n",
        "# Mostrar el boxplot\n",
        "plt.show()"
      ],
      "metadata": {
        "id": "zWiy2k4SpNyD"
      },
      "execution_count": null,
      "outputs": []
    },
    {
      "cell_type": "markdown",
      "source": [
        "\n",
        "\n",
        "---\n",
        "\n"
      ],
      "metadata": {
        "id": "EXGy4HBG39qW"
      }
    },
    {
      "cell_type": "markdown",
      "source": [
        "En base a este analisis podemos decir que la temperatura promedio mínima se registró en el mes de Julio. Por ende ahora queremos mostrar el Top 10 de temperaturas mínimas de Julio.\n",
        "Lo mismo vamos a realizar para las temperaturas máximas registradas en el mes de Enero.\n",
        "\n",
        "Se puede observar que existen valores atípicos."
      ],
      "metadata": {
        "id": "DKL2urEJusZX"
      }
    },
    {
      "cell_type": "code",
      "source": [
        "# Filtrar por \"Valor Medio de\" y asegurarse de que los valores no sean nulos en julio\n",
        "data_filtrado = data[(data['Valor Medio de'] == \"Temperatura mínima (grados C)\") & data['Jul'].notnull()]\n",
        "\n",
        "# Calcular la temperatura mínima de julio para cada estación\n",
        "temperaturas_minimas_por_estacion = data_filtrado.groupby('Estación')['Jul'].min()\n",
        "\n",
        "# Ordenar las temperaturas mínimas de manera ascendente y seleccionar el top 10\n",
        "top_10_temperaturas_bajas = temperaturas_minimas_por_estacion.sort_values(ascending=True).head(10)\n",
        "\n",
        "# Graficar el top 10 de temperaturas más bajas\n",
        "top_10_temperaturas_bajas.plot(kind='bar', figsize=(10, 6), color='skyblue')\n",
        "\n",
        "# Personalizar el gráfico\n",
        "plt.xlabel('Estación')\n",
        "plt.ylabel('Temperatura Mínima (°C)')\n",
        "plt.title('Top 10 de Temperaturas Más Bajas en Julio por Estación')\n",
        "\n",
        "# Mostrar el gráfico\n",
        "plt.show()"
      ],
      "metadata": {
        "id": "ZvOZnHFJrWpe"
      },
      "execution_count": null,
      "outputs": []
    },
    {
      "cell_type": "markdown",
      "source": [
        "\n",
        "\n",
        "---\n",
        "\n"
      ],
      "metadata": {
        "id": "LIfsLEQ34A4P"
      }
    },
    {
      "cell_type": "code",
      "source": [
        "# Filtrar por \"Valor Medio de\" y asegurarse de que los valores no sean nulos en Enero\n",
        "data_filtrado = data[(data['Valor Medio de'] == \"Temperatura máxima (grados C)\") & data[\"Ene\"].notnull()]\n",
        "\n",
        "# Calcular la temperatura maxima de Enero para cada estación\n",
        "temperaturas_maximas_por_estacion = data_filtrado.groupby('Estación')[\"Ene\"].max()\n",
        "\n",
        "# Ordenar las temperaturas maximas de manera descendente y seleccionar el top 10\n",
        "top_10_temperaturas_altas = temperaturas_maximas_por_estacion.sort_values(ascending=False).head(10)\n",
        "\n",
        "# Graficar el top 10 de temperaturas más altas\n",
        "top_10_temperaturas_altas.plot(kind='bar', figsize=(10, 6), color='skyblue')\n",
        "\n",
        "# Personalizar el gráfico\n",
        "plt.xlabel('Estación')\n",
        "plt.ylabel('Temperatura Máxima (°C)')\n",
        "plt.title('Top 10 de Temperaturas Más Altas en Enero por Estación')\n",
        "\n",
        "# Mostrar el gráfico\n",
        "plt.show()"
      ],
      "metadata": {
        "id": "B-VVlX12r15y"
      },
      "execution_count": null,
      "outputs": []
    },
    {
      "cell_type": "markdown",
      "source": [
        "\n",
        "\n",
        "---\n",
        "\n"
      ],
      "metadata": {
        "id": "z56_6RLq4Diw"
      }
    },
    {
      "cell_type": "markdown",
      "source": [
        "En el siguiente gráfico se muestra el top 10 de estaciones con mayores vientos por mes."
      ],
      "metadata": {
        "id": "U0l0Gs4dMQMz"
      }
    },
    {
      "cell_type": "code",
      "source": [
        "meses = ['Ene', 'Feb', 'Mar', 'Abr', 'May', 'Jun', 'Jul', 'Ago', 'Sep', 'Oct', 'Nov', 'Dic']\n",
        "\n",
        "# Filtrar por \"Valor Medio de\" y asegurarse de que los valores no sean nulos en al menos un mes\n",
        "data_filtrado = data[(data['Valor Medio de'] == \"Velocidad del Viento (km/h)\") &\n",
        "                     data[meses].notnull().any(axis=1)]\n",
        "\n",
        "# Calcular los vientos máximos por estación\n",
        "vientos_max_por_estacion = data_filtrado.groupby('Estación')[meses].max()\n",
        "\n",
        "# Obtener el top 10 de estaciones con los mayores vientos para cualquier mes\n",
        "top_10_vientos_max = vientos_max_por_estacion.max(axis=1).nlargest(10)\n",
        "\n",
        "# Filtrar solo las estaciones del top 10\n",
        "top_10_vientos_data = vientos_max_por_estacion.loc[top_10_vientos_max.index]\n",
        "\n",
        "# Crear un gráfico de barras para mostrar el top 10 de estaciones con los mayores vientos\n",
        "top_10_vientos_data.transpose().plot(kind='bar', figsize=(12, 6), colormap='viridis', width=0.8)\n",
        "\n",
        "# Personalizar el gráfico\n",
        "plt.xlabel('Estaciones')\n",
        "plt.ylabel('Viento Máximo (Km/h)')\n",
        "plt.title('Top 10 de Estaciones con los Mayores Vientos por Mes')\n",
        "\n",
        "# Mostrar el gráfico\n",
        "plt.show()"
      ],
      "metadata": {
        "id": "9epI8mXfxxm7"
      },
      "execution_count": null,
      "outputs": []
    },
    {
      "cell_type": "markdown",
      "source": [
        "\n",
        "\n",
        "---\n",
        "\n"
      ],
      "metadata": {
        "id": "2JUaVkwJ4ODf"
      }
    },
    {
      "cell_type": "markdown",
      "source": [
        "# Análisis temporal"
      ],
      "metadata": {
        "id": "3N457G1yacj5"
      }
    },
    {
      "cell_type": "markdown",
      "source": [
        "En el siguiente gráfico se muestra la variación de temperaturas (máxima, promedio y mínima) de todos los meses, utilizando gráfico de líneas"
      ],
      "metadata": {
        "id": "gxp_YD2sMnvw"
      }
    },
    {
      "cell_type": "code",
      "source": [
        "meses = ['Ene', 'Feb', 'Mar', 'Abr', 'May', 'Jun', 'Jul', 'Ago', 'Sep', 'Oct', 'Nov', 'Dic']\n",
        "\n",
        "# Filtrar por \"Valor Medio de\" y asegurarse de que los valores no sean nulos en al menos un mes\n",
        "data_filtrado = data[(data['Valor Medio de'] == \"Temperatura máxima (grados C)\") |\n",
        "                     (data['Valor Medio de'] == \"Temperatura (grados C)\") |\n",
        "                     (data['Valor Medio de'] == \"Temperatura mínima (grados C)\") &\n",
        "                     data[meses].notnull().any(axis=1)]\n",
        "\n",
        "# Crear un gráfico de líneas con todas las columnas de meses para temperatura máxima\n",
        "data_filtrado[data_filtrado['Valor Medio de'] == 'Temperatura máxima (grados C)'][meses].mean().plot(\n",
        "    marker='o', linestyle='-', color='#FF55BA', label='Temperatura Máxima', figsize=(15, 6))\n",
        "\n",
        "# Crear un gráfico de líneas con todas las columnas de meses para temperatura promedio\n",
        "data_filtrado[data_filtrado['Valor Medio de'] == 'Temperatura (grados C)'][meses].mean().plot(\n",
        "    marker='o', linestyle='-', color='#55FFED', label='Temperatura Promedio')\n",
        "\n",
        "# Crear un gráfico de líneas con todas las columnas de meses para temperatura mínima\n",
        "data_filtrado[data_filtrado['Valor Medio de'] == 'Temperatura mínima (grados C)'][meses].mean().plot(\n",
        "    marker='o', linestyle='-', color='#55FF76', label='Temperatura Mínima')\n",
        "\n",
        "# Personalizar el gráfico de líneas\n",
        "plt.xlabel('Meses')\n",
        "plt.ylabel('Temperatura (Grados C)')\n",
        "plt.title('Variación de Temperaturas')\n",
        "plt.legend()\n",
        "\n",
        "# Mostrar el gráfico\n",
        "plt.show()"
      ],
      "metadata": {
        "id": "FwmB6G7hc0kr"
      },
      "execution_count": null,
      "outputs": []
    },
    {
      "cell_type": "markdown",
      "source": [
        "\n",
        "\n",
        "---\n",
        "\n"
      ],
      "metadata": {
        "id": "fMgB2Qlp4QtD"
      }
    },
    {
      "cell_type": "markdown",
      "source": [
        "# Preguntas de investigación"
      ],
      "metadata": {
        "id": "MYSBg9I3f5t_"
      }
    },
    {
      "cell_type": "markdown",
      "source": [
        "* ¿Cuál fue la estación con menor frecuencia de días con precipitación superior a 0.1mm?"
      ],
      "metadata": {
        "id": "0ekth6Kjf-K3"
      }
    },
    {
      "cell_type": "code",
      "source": [
        "p=data[data['Valor Medio de'] == \"Frecuencia de días con Precipitación superior a 0.1 mm\"]\n",
        "print(f\"\"\"La estación con menor frecuencia de días con precipitación superior a 0.1mm es {p.min()[\"Estación\"]},\n",
        "a continuación se muestran sus datos:\n",
        "\n",
        "{(p.min())}\"\"\")"
      ],
      "metadata": {
        "id": "mDO19DX6fSmw"
      },
      "execution_count": null,
      "outputs": []
    },
    {
      "cell_type": "markdown",
      "source": [
        "\n",
        "\n",
        "\n",
        "---\n",
        "\n"
      ],
      "metadata": {
        "id": "CdPD4ENL3gC4"
      }
    },
    {
      "cell_type": "markdown",
      "source": [
        "* ¿Cuál fue el mes con mayor Nubosidad total (octavos)?"
      ],
      "metadata": {
        "id": "_tXUe1lNgJ1h"
      }
    },
    {
      "cell_type": "code",
      "source": [
        "n = data[data['Valor Medio de'] == \"Nubosidad total (octavos)\"]\n",
        "promedios_por_mes = n.mean(numeric_only=True)\n",
        "mes_con_mayor_promedio = promedios_por_mes.idxmax()\n",
        "max_promedio = promedios_por_mes.max()\n",
        "\n",
        "print(promedios_por_mes)\n",
        "\n",
        "print(f\"\"\"\n",
        "El mes con el mayor promedio de nubosidad total es {mes_con_mayor_promedio}, con un promedio de {max_promedio:.2f} (octavos)\"\"\")"
      ],
      "metadata": {
        "id": "1xYenDR_gSto"
      },
      "execution_count": null,
      "outputs": []
    },
    {
      "cell_type": "markdown",
      "source": [
        "\n",
        "\n",
        "---\n",
        "\n"
      ],
      "metadata": {
        "id": "tHXEg-b73lqC"
      }
    },
    {
      "cell_type": "markdown",
      "source": [
        "* ¿Cuál fue el mes con menor velocidad del viento (km/h)?"
      ],
      "metadata": {
        "id": "_uFBMzMokLIb"
      }
    },
    {
      "cell_type": "code",
      "source": [
        "v = data[data['Valor Medio de'] == \"Velocidad del Viento (km/h)\"]\n",
        "promedios_por_mes = v.mean(numeric_only=True)\n",
        "mes_con_menor_promedio = promedios_por_mes.idxmin()\n",
        "menor_promedio = promedios_por_mes.min()\n",
        "\n",
        "print(promedios_por_mes)\n",
        "print(f\"\"\"\n",
        "El mes con el menor promedio de velocidad del viento es {mes_con_menor_promedio}, con un promedio de {menor_promedio:.2f} (Km/h)\"\"\")\n"
      ],
      "metadata": {
        "id": "91KY86GakKsU"
      },
      "execution_count": null,
      "outputs": []
    },
    {
      "cell_type": "markdown",
      "source": [
        "\n",
        "\n",
        "---\n",
        "\n"
      ],
      "metadata": {
        "id": "YtI4qNgC3nF8"
      }
    }
  ]
}